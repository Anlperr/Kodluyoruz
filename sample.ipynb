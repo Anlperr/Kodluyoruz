{
 "cells": [
  {
   "metadata": {
    "ExecuteTime": {
     "end_time": "2024-05-08T10:29:25.319279Z",
     "start_time": "2024-05-08T10:29:25.314267Z"
    }
   },
   "cell_type": "code",
   "source": [
    "import math\n",
    "\n",
    "# Noktaların tanımlanması\n",
    "points = [(7, 4), (3, 9), (5, 11), (8, 17)] \n",
    "\n",
    "# Öklid mesafesi için bir fonksiyon tanımlama\n",
    "def euclideandistance(point1, point2):\n",
    "    x1, y1 = point1\n",
    "    x2, y2 = point2\n",
    "    return math.sqrt((x2 - x1) ** 2 + (y2 - y1) ** 2)\n",
    "\n",
    "# Mesafelerin hesaplanması\n",
    "distances = []\n",
    "for i in range(len(points)):\n",
    "    for j in range(i + 1, len(points)):\n",
    "        distance = euclideandistance(points[i], points[j])\n",
    "        distances.append(distance)\n",
    "\n",
    "# Minimum mesafenin bulunması\n",
    "min_distance = min(distances)\n",
    "print(\"Minimum mesafe:\", min_distance)\n"
   ],
   "id": "fbc121e30a2defb3",
   "outputs": [
    {
     "name": "stdout",
     "output_type": "stream",
     "text": [
      "Minimum mesafe: 2.8284271247461903\n"
     ]
    }
   ],
   "execution_count": 7
  },
  {
   "metadata": {},
   "cell_type": "code",
   "outputs": [],
   "execution_count": null,
   "source": "",
   "id": "8ad0a058158cc76b"
  }
 ],
 "metadata": {
  "kernelspec": {
   "display_name": "Python 3",
   "language": "python",
   "name": "python3"
  },
  "language_info": {
   "codemirror_mode": {
    "name": "ipython",
    "version": 2
   },
   "file_extension": ".py",
   "mimetype": "text/x-python",
   "name": "python",
   "nbconvert_exporter": "python",
   "pygments_lexer": "ipython2",
   "version": "2.7.6"
  }
 },
 "nbformat": 4,
 "nbformat_minor": 5
}
